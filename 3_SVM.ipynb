{
  "nbformat": 4,
  "nbformat_minor": 0,
  "metadata": {
    "colab": {
      "name": "3_SVM.ipynb",
      "provenance": [],
      "authorship_tag": "ABX9TyPmfSUQ0PhN6lIHY5IByOQq",
      "include_colab_link": true
    },
    "kernelspec": {
      "name": "python3",
      "display_name": "Python 3"
    }
  },
  "cells": [
    {
      "cell_type": "markdown",
      "metadata": {
        "id": "view-in-github",
        "colab_type": "text"
      },
      "source": [
        "<a href=\"https://colab.research.google.com/github/mlcafe/Pengenalan-ML/blob/master/3_SVM.ipynb\" target=\"_parent\"><img src=\"https://colab.research.google.com/assets/colab-badge.svg\" alt=\"Open In Colab\"/></a>"
      ]
    },
    {
      "cell_type": "code",
      "metadata": {
        "id": "-9TFVCvVakdd"
      },
      "source": [
        "import sys\n",
        "assert sys.version_info >= (3, 5)\n",
        "import sklearn\n",
        "assert sklearn.__version__ >= \"0.20\"\n",
        "import numpy as np\n",
        "import os\n",
        "from sklearn import metrics\n",
        "\n",
        "%matplotlib inline\n",
        "import matplotlib as mpl\n",
        "import matplotlib.pyplot as plt\n",
        "\n",
        "# Where to save the figures\n",
        "PROJECT_ROOT_DIR = \".\"\n",
        "import pandas as pd\n",
        "import seaborn as sns\n",
        "\n"
      ],
      "execution_count": null,
      "outputs": []
    },
    {
      "cell_type": "markdown",
      "metadata": {
        "id": "nEVjIF7ChQ6q"
      },
      "source": [
        "**LOAD DATA**\n",
        "\n",
        "Binary classification of Iris"
      ]
    },
    {
      "cell_type": "code",
      "metadata": {
        "id": "pPmhmXeIhXyr"
      },
      "source": [
        "from sklearn import datasets\n",
        "from sklearn.pipeline import Pipeline\n",
        "from sklearn.preprocessing import StandardScaler\n",
        "from sklearn.svm import LinearSVC\n",
        "\n",
        "from sklearn.svm import SVC\n",
        "from sklearn import datasets\n",
        "\n",
        "iris = datasets.load_iris()\n",
        "#print(len(iris[\"data\"]))\n",
        "X = iris[\"data\"][:, (2, 3)]  # petal length, petal width\n",
        "y = iris[\"target\"]\n",
        "\n",
        "setosa_or_versicolor = (y == 0) | (y == 1)\n",
        "X = X[setosa_or_versicolor]\n",
        "y = y[setosa_or_versicolor]\n",
        "\n",
        "X_train = X[:80]\n",
        "y_train = y[:80]\n",
        "X_test = X[80:100]\n",
        "y_test = y[80:100]"
      ],
      "execution_count": null,
      "outputs": []
    },
    {
      "cell_type": "code",
      "metadata": {
        "id": "HEamh7wetNKD",
        "colab": {
          "base_uri": "https://localhost:8080/"
        },
        "outputId": "dcb5cad8-5060-4095-c65c-3d664e5edafa"
      },
      "source": [
        "X_test"
      ],
      "execution_count": null,
      "outputs": [
        {
          "output_type": "execute_result",
          "data": {
            "text/plain": [
              "array([[3.8, 1.1],\n",
              "       [3.7, 1. ],\n",
              "       [3.9, 1.2],\n",
              "       [5.1, 1.6],\n",
              "       [4.5, 1.5],\n",
              "       [4.5, 1.6],\n",
              "       [4.7, 1.5],\n",
              "       [4.4, 1.3],\n",
              "       [4.1, 1.3],\n",
              "       [4. , 1.3],\n",
              "       [4.4, 1.2],\n",
              "       [4.6, 1.4],\n",
              "       [4. , 1.2],\n",
              "       [3.3, 1. ],\n",
              "       [4.2, 1.3],\n",
              "       [4.2, 1.2],\n",
              "       [4.2, 1.3],\n",
              "       [4.3, 1.3],\n",
              "       [3. , 1.1],\n",
              "       [4.1, 1.3]])"
            ]
          },
          "metadata": {
            "tags": []
          },
          "execution_count": 21
        }
      ]
    },
    {
      "cell_type": "code",
      "metadata": {
        "id": "kFZHWO01tgnj",
        "colab": {
          "base_uri": "https://localhost:8080/"
        },
        "outputId": "d2c3f96b-8193-45da-9ead-ace26b59dd24"
      },
      "source": [
        "# SVM Classifier model\n",
        "svm_clf = SVC(kernel=\"linear\", C=float(\"inf\"))\n",
        "svm_clf.fit(X_train, y_train)"
      ],
      "execution_count": null,
      "outputs": [
        {
          "output_type": "execute_result",
          "data": {
            "text/plain": [
              "SVC(C=inf, break_ties=False, cache_size=200, class_weight=None, coef0=0.0,\n",
              "    decision_function_shape='ovr', degree=3, gamma='scale', kernel='linear',\n",
              "    max_iter=-1, probability=False, random_state=None, shrinking=True,\n",
              "    tol=0.001, verbose=False)"
            ]
          },
          "metadata": {
            "tags": []
          },
          "execution_count": 23
        }
      ]
    },
    {
      "cell_type": "markdown",
      "metadata": {
        "id": "j8T6tevAq-yO"
      },
      "source": [
        "Plot Boundary"
      ]
    },
    {
      "cell_type": "code",
      "metadata": {
        "id": "ynxNe784rHd9"
      },
      "source": [
        "def plot_svc_decision_boundary(svm_clf, xmin, xmax):\n",
        "    w = svm_clf.coef_[0]\n",
        "    b = svm_clf.intercept_[0]\n",
        "\n",
        "    # At the decision boundary, w0*x0 + w1*x1 + b = 0\n",
        "    # => x1 = -w0/w1 * x0 - b/w1\n",
        "    x0 = np.linspace(xmin, xmax, 200)\n",
        "    decision_boundary = -w[0]/w[1] * x0 - b/w[1]\n",
        "\n",
        "    margin = 1/w[1]\n",
        "    gutter_up = decision_boundary + margin\n",
        "    gutter_down = decision_boundary - margin\n",
        "\n",
        "    svs = svm_clf.support_vectors_\n",
        "    plt.scatter(svs[:, 0], svs[:, 1], s=180, facecolors='#FFAAAA')\n",
        "    plt.plot(x0, decision_boundary, \"k-\", linewidth=2)\n",
        "    plt.plot(x0, gutter_up, \"k--\", linewidth=2)\n",
        "    plt.plot(x0, gutter_down, \"k--\", linewidth=2)"
      ],
      "execution_count": null,
      "outputs": []
    },
    {
      "cell_type": "markdown",
      "metadata": {
        "id": "OfxP5WNDrLp6"
      },
      "source": [
        "**Decision Boundary**\n",
        "\n",
        "Linear SVM of binary classification"
      ]
    },
    {
      "cell_type": "code",
      "metadata": {
        "id": "1hESaTXmrQfJ",
        "colab": {
          "base_uri": "https://localhost:8080/",
          "height": 287
        },
        "outputId": "33b3709a-6a91-4de1-bf27-7c2f9bda0710"
      },
      "source": [
        "plot_svc_decision_boundary(svm_clf, 0, 5.5)\n",
        "plt.plot(X[:, 0][y==1], X[:, 1][y==1], \"bs\")\n",
        "plt.plot(X[:, 0][y==0], X[:, 1][y==0], \"yo\")\n",
        "plt.xlabel(\"Petal length\", fontsize=14)\n",
        "plt.axis([0, 5.5, 0, 2])\n",
        "\n",
        "plt.show()"
      ],
      "execution_count": null,
      "outputs": [
        {
          "output_type": "display_data",
          "data": {
            "image/png": "[encoded data removed]",
            "text/plain": [
              "<Figure size 432x288 with 1 Axes>"
            ]
          },
          "metadata": {
            "tags": [],
            "needs_background": "light"
          }
        }
      ]
    },
    {
      "cell_type": "markdown",
      "metadata": {
        "id": "HKCIctE8rhd9"
      },
      "source": [
        "Classification accuracy of linear SVM"
      ]
    },
    {
      "cell_type": "code",
      "metadata": {
        "id": "SerpFYyFvJ_x",
        "colab": {
          "base_uri": "https://localhost:8080/"
        },
        "outputId": "8215ecf9-cff0-4bb2-feef-7838abf763d9"
      },
      "source": [
        "# SVC with linear kernel\n",
        "# for SVC, may be impractical beyond tens of thousands of samples\n",
        "prediction=svm_clf.predict(X_test)\n",
        "print('The accuracy of the linear SVC is',\"{:.3f}\".format(metrics.accuracy_score(prediction,y_test)))\n"
      ],
      "execution_count": null,
      "outputs": [
        {
          "output_type": "stream",
          "text": [
            "The accuracy of the linear SVC is 1.000\n"
          ],
          "name": "stdout"
        }
      ]
    },
    {
      "cell_type": "markdown",
      "metadata": {
        "id": "SIkoo4aTwTfI"
      },
      "source": [
        "Classification accuracy of non-linear SVM"
      ]
    },
    {
      "cell_type": "code",
      "metadata": {
        "id": "jDia8EQHwfnY",
        "colab": {
          "base_uri": "https://localhost:8080/"
        },
        "outputId": "de309647-ef78-4be1-8739-376459204903"
      },
      "source": [
        "# SVC with polynomial kernel\n",
        "poly_svc = SVC(kernel='rbf', degree = 4).fit(X_train, y_train)\n",
        "prediction=poly_svc.predict(X_test)\n",
        "print('The accuracy of the Poly SVC is',\"{:.3f}\".format(metrics.accuracy_score(prediction,y_test)))"
      ],
      "execution_count": null,
      "outputs": [
        {
          "output_type": "stream",
          "text": [
            "The accuracy of the Poly SVC is 1.000\n"
          ],
          "name": "stdout"
        }
      ]
    },
    {
      "cell_type": "markdown",
      "metadata": {
        "id": "lLv845Lfm8tY"
      },
      "source": [
        "**Non-linear SVM for 3 classes**"
      ]
    },
    {
      "cell_type": "code",
      "metadata": {
        "id": "zVz-c7lzm_lP"
      },
      "source": [
        "X = iris[\"data\"][:, (2, 3)]  # petal length, petal width\n",
        "y = iris[\"target\"]\n",
        "\n",
        "from sklearn.model_selection import train_test_split\n",
        "X_train, X_test, y_train, y_test = train_test_split(X, y, test_size = 0.25, random_state = 0)\n"
      ],
      "execution_count": null,
      "outputs": []
    },
    {
      "cell_type": "markdown",
      "metadata": {
        "id": "_-Qz91_Fnllj"
      },
      "source": [
        "Fit the data with different SVM classifiers"
      ]
    },
    {
      "cell_type": "code",
      "metadata": {
        "id": "OAZjfn4InoOb"
      },
      "source": [
        "h = .02  # step size in the mesh\n",
        "\n",
        "C = 100  # SVM regularization parameter\n",
        "svc = SVC(kernel='linear', C=C).fit(X_train, y_train)\n",
        "rbf_svc = SVC(kernel='rbf', gamma=0.7, C=C).fit(X_train, y_train)\n",
        "poly_svc = SVC(kernel='poly', degree=3, C=C).fit(X_train, y_train)"
      ],
      "execution_count": null,
      "outputs": []
    },
    {
      "cell_type": "markdown",
      "metadata": {
        "id": "P_jP-nE3n16_"
      },
      "source": [
        "Accuracy of different SVM classifiers on the data\n",
        "\n",
        "\n"
      ]
    },
    {
      "cell_type": "code",
      "metadata": {
        "id": "ZDJUBLoqpDDV",
        "colab": {
          "base_uri": "https://localhost:8080/"
        },
        "outputId": "6fb36f44-b41d-467d-eed6-a6cf0067a8a6"
      },
      "source": [
        "from sklearn.metrics import confusion_matrix\n",
        "from sklearn.model_selection import cross_val_score\n",
        "\n",
        "y_pred_svc = svc.predict(X_test)\n",
        "\n",
        "cm = confusion_matrix(y_test, y_pred_svc)\n",
        "accuracies = cross_val_score(estimator = svc, X = X_train, y = y_train, cv = 10)\n",
        "print(cm)\n",
        "print(\"Accuracy: {:.2f} %\".format(accuracies.mean()*100))"
      ],
      "execution_count": null,
      "outputs": [
        {
          "output_type": "stream",
          "text": [
            "[[13  0  0]\n",
            " [ 0 15  1]\n",
            " [ 0  1  8]]\n",
            "Accuracy: 93.71 %\n"
          ],
          "name": "stdout"
        }
      ]
    },
    {
      "cell_type": "code",
      "metadata": {
        "id": "-Q3plbwbpWG9",
        "colab": {
          "base_uri": "https://localhost:8080/"
        },
        "outputId": "a8b1666b-9da6-458a-d37d-727018ee4d9a"
      },
      "source": [
        "y_pred_rbf = rbf_svc.predict(X_test)\n",
        "\n",
        "cm = confusion_matrix(y_test, y_pred_rbf)\n",
        "accuracies = cross_val_score(estimator = rbf_svc, X = X_train, y = y_train, cv = 10)\n",
        "print(cm)\n",
        "print(\"Accuracy: {:.2f} %\".format(accuracies.mean()*100))"
      ],
      "execution_count": null,
      "outputs": [
        {
          "output_type": "stream",
          "text": [
            "[[13  0  0]\n",
            " [ 0 15  1]\n",
            " [ 0  0  9]]\n",
            "Accuracy: 95.53 %\n"
          ],
          "name": "stdout"
        }
      ]
    },
    {
      "cell_type": "code",
      "metadata": {
        "id": "IsS9zJSEpdDG",
        "colab": {
          "base_uri": "https://localhost:8080/"
        },
        "outputId": "7b195675-a578-444b-bb5d-b3ecd92f3eaa"
      },
      "source": [
        "y_pred_poly = poly_svc.predict(X_test)\n",
        "\n",
        "cm = confusion_matrix(y_test, y_pred_poly)\n",
        "accuracies = cross_val_score(estimator = poly_svc, X = X_train, y = y_train, cv = 10)\n",
        "print(cm)\n",
        "print(\"Accuracy: {:.2f} %\".format(accuracies.mean()*100))"
      ],
      "execution_count": null,
      "outputs": [
        {
          "output_type": "stream",
          "text": [
            "[[13  0  0]\n",
            " [ 0 15  1]\n",
            " [ 0  0  9]]\n",
            "Accuracy: 94.62 %\n"
          ],
          "name": "stdout"
        }
      ]
    }
  ]
}