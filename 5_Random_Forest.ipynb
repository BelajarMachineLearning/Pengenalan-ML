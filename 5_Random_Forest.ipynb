{
  "nbformat": 4,
  "nbformat_minor": 0,
  "metadata": {
    "colab": {
      "name": "5_RF.ipynb",
      "provenance": [],
      "authorship_tag": "ABX9TyMEdliv44K6b9OBEH9DSCT7",
      "include_colab_link": true
    },
    "kernelspec": {
      "name": "python3",
      "display_name": "Python 3"
    }
  },
  "cells": [
    {
      "cell_type": "markdown",
      "metadata": {
        "id": "view-in-github",
        "colab_type": "text"
      },
      "source": [
        "<a href=\"https://colab.research.google.com/github/mlcafe/Pengenalan-ML/blob/master/5_Random_Forest.ipynb\" target=\"_parent\"><img src=\"https://colab.research.google.com/assets/colab-badge.svg\" alt=\"Open In Colab\"/></a>"
      ]
    },
    {
      "cell_type": "code",
      "metadata": {
        "id": "f-57AQ9d7h8J"
      },
      "source": [
        "import sys\r\n",
        "assert sys.version_info >= (3, 5)\r\n",
        "import sklearn\r\n",
        "assert sklearn.__version__ >= \"0.20\"\r\n",
        "import numpy as np\r\n",
        "import os\r\n",
        "from sklearn import metrics\r\n",
        "\r\n",
        "%matplotlib inline\r\n",
        "import matplotlib as mpl\r\n",
        "import matplotlib.pyplot as plt\r\n"
      ],
      "execution_count": null,
      "outputs": []
    },
    {
      "cell_type": "markdown",
      "metadata": {
        "id": "pqNTgUNQ-Bwc"
      },
      "source": [
        "**Random Forest Classifier **\r\n",
        "Load Dataset Digit"
      ]
    },
    {
      "cell_type": "code",
      "metadata": {
        "colab": {
          "base_uri": "https://localhost:8080/"
        },
        "id": "DDHMyn0D-BPV",
        "outputId": "d5e0aba0-a5bd-4ba8-f35a-d1af06a52e18"
      },
      "source": [
        "from sklearn.datasets import load_digits\r\n",
        "digits = load_digits()\r\n",
        "digits.keys()"
      ],
      "execution_count": null,
      "outputs": [
        {
          "output_type": "execute_result",
          "data": {
            "text/plain": [
              "dict_keys(['data', 'target', 'target_names', 'images', 'DESCR'])"
            ]
          },
          "metadata": {
            "tags": []
          },
          "execution_count": 57
        }
      ]
    },
    {
      "cell_type": "code",
      "metadata": {
        "colab": {
          "base_uri": "https://localhost:8080/",
          "height": 466
        },
        "id": "ccXNDizE-gDC",
        "outputId": "3dbe610a-bc4d-413c-f851-522c559db2c8"
      },
      "source": [
        "fig = plt.figure(figsize=(6, 6))  # figure size in inches\r\n",
        "fig.subplots_adjust(left=0, right=1, bottom=0, top=1, hspace=0.05, wspace=0.05)\r\n",
        "\r\n",
        "# plot the digits: each image is 8x8 pixels\r\n",
        "for i in range(64):\r\n",
        "    ax = fig.add_subplot(8, 8, i + 1, xticks=[], yticks=[])\r\n",
        "    ax.imshow(digits.images[i], cmap=plt.cm.binary, interpolation='nearest')\r\n",
        "    \r\n",
        "    # label the image with the target value\r\n",
        "    ax.text(0, 7, str(digits.target[i]))"
      ],
      "execution_count": null,
      "outputs": [
        {
          "output_type": "display_data",
          "data": {
            "image/png": "[encoded data removed]",
            "text/plain": [
              "<Figure size 432x432 with 64 Axes>"
            ]
          },
          "metadata": {
            "tags": []
          }
        }
      ]
    },
    {
      "cell_type": "markdown",
      "metadata": {
        "id": "38oOSkMa-osw"
      },
      "source": [
        "Classify digits with Random Forest"
      ]
    },
    {
      "cell_type": "code",
      "metadata": {
        "id": "gsjmdVpF-sli"
      },
      "source": [
        "from sklearn.model_selection import train_test_split\r\n",
        "from sklearn.ensemble import RandomForestClassifier\r\n",
        "\r\n",
        "\r\n",
        "Xtrain, Xtest, ytrain, ytest = train_test_split(digits.data, digits.target,\r\n",
        "                                                random_state=0)\r\n",
        "model = RandomForestClassifier(n_estimators=100, max_depth = 5)\r\n",
        "model.fit(Xtrain, ytrain)\r\n",
        "ypred = model.predict(Xtest)"
      ],
      "execution_count": null,
      "outputs": []
    },
    {
      "cell_type": "markdown",
      "metadata": {
        "id": "LmXSuVDxDsXg"
      },
      "source": [
        "Evaluation metrics\r\n"
      ]
    },
    {
      "cell_type": "code",
      "metadata": {
        "colab": {
          "base_uri": "https://localhost:8080/"
        },
        "id": "xBPB93gYDtwn",
        "outputId": "3dad8aea-d717-4820-a41e-9d6522b108e9"
      },
      "source": [
        "from sklearn import metrics\r\n",
        "print(metrics.classification_report(ypred, ytest))"
      ],
      "execution_count": null,
      "outputs": [
        {
          "output_type": "stream",
          "text": [
            "              precision    recall  f1-score   support\n",
            "\n",
            "           0       1.00      0.97      0.99        38\n",
            "           1       0.98      0.91      0.94        46\n",
            "           2       0.89      1.00      0.94        39\n",
            "           3       0.91      0.84      0.87        49\n",
            "           4       0.95      0.97      0.96        37\n",
            "           5       0.96      0.90      0.93        51\n",
            "           6       1.00      1.00      1.00        52\n",
            "           7       0.98      0.90      0.94        52\n",
            "           8       0.83      0.95      0.89        42\n",
            "           9       0.87      0.93      0.90        44\n",
            "\n",
            "    accuracy                           0.94       450\n",
            "   macro avg       0.94      0.94      0.94       450\n",
            "weighted avg       0.94      0.94      0.94       450\n",
            "\n"
          ],
          "name": "stdout"
        }
      ]
    },
    {
      "cell_type": "markdown",
      "metadata": {
        "id": "I_KAmMEMNkIp"
      },
      "source": [
        "**Random Forest Regressor**\r\n",
        "Predict house price"
      ]
    },
    {
      "cell_type": "code",
      "metadata": {
        "id": "tR-892PHGqnM"
      },
      "source": [
        "from sklearn import datasets\r\n",
        "import pandas as pd\r\n",
        "\r\n",
        "boston = datasets.load_boston()\r\n",
        "\r\n",
        "features = pd.DataFrame(boston.data, columns=boston.feature_names)\r\n",
        "targets = boston.target"
      ],
      "execution_count": null,
      "outputs": []
    },
    {
      "cell_type": "code",
      "metadata": {
        "colab": {
          "base_uri": "https://localhost:8080/"
        },
        "id": "sPpuVMGkNwQz",
        "outputId": "6d0e4d50-6c2a-4b5e-be77-2344c3811103"
      },
      "source": [
        "print(features[:5]) \r\n",
        "print(targets[:5])\r\n",
        "print('Number of features',np.shape(features))"
      ],
      "execution_count": null,
      "outputs": [
        {
          "output_type": "stream",
          "text": [
            "      CRIM    ZN  INDUS  CHAS    NOX  ...  RAD    TAX  PTRATIO       B  LSTAT\n",
            "0  0.00632  18.0   2.31   0.0  0.538  ...  1.0  296.0     15.3  396.90   4.98\n",
            "1  0.02731   0.0   7.07   0.0  0.469  ...  2.0  242.0     17.8  396.90   9.14\n",
            "2  0.02729   0.0   7.07   0.0  0.469  ...  2.0  242.0     17.8  392.83   4.03\n",
            "3  0.03237   0.0   2.18   0.0  0.458  ...  3.0  222.0     18.7  394.63   2.94\n",
            "4  0.06905   0.0   2.18   0.0  0.458  ...  3.0  222.0     18.7  396.90   5.33\n",
            "\n",
            "[5 rows x 13 columns]\n",
            "[24.  21.6 34.7 33.4 36.2]\n",
            "Number of features (506, 13)\n"
          ],
          "name": "stdout"
        }
      ]
    },
    {
      "cell_type": "markdown",
      "metadata": {
        "id": "qyXTH4EBKRzB"
      },
      "source": [
        "Train with Random Forest Regressor"
      ]
    },
    {
      "cell_type": "code",
      "metadata": {
        "id": "jaJF9bpgJ24r"
      },
      "source": [
        "X_train, X_test, y_train, y_test = train_test_split(features, targets, train_size=0.8, random_state=42)\r\n",
        "scaler = StandardScaler().fit(X_train)\r\n",
        "X_train = pd.DataFrame(scaler.transform(X_train), index=X_train.index.values, columns=X_train.columns.values)\r\n",
        "X_test = pd.DataFrame(scaler.transform(X_test), index=X_test.index.values, columns=X_test.columns.values)"
      ],
      "execution_count": null,
      "outputs": []
    },
    {
      "cell_type": "code",
      "metadata": {
        "colab": {
          "base_uri": "https://localhost:8080/"
        },
        "id": "yS8NYz5BKRbv",
        "outputId": "f2ee79ec-22b0-40c2-f65a-842fe742d45c"
      },
      "source": [
        "from sklearn.ensemble import RandomForestRegressor\r\n",
        "rf = RandomForestRegressor(n_estimators=500, oob_score=True, random_state=0)\r\n",
        "rf.fit(X_train, y_train)"
      ],
      "execution_count": null,
      "outputs": [
        {
          "output_type": "execute_result",
          "data": {
            "text/plain": [
              "RandomForestRegressor(bootstrap=True, ccp_alpha=0.0, criterion='mse',\n",
              "                      max_depth=None, max_features='auto', max_leaf_nodes=None,\n",
              "                      max_samples=None, min_impurity_decrease=0.0,\n",
              "                      min_impurity_split=None, min_samples_leaf=1,\n",
              "                      min_samples_split=2, min_weight_fraction_leaf=0.0,\n",
              "                      n_estimators=500, n_jobs=None, oob_score=True,\n",
              "                      random_state=0, verbose=0, warm_start=False)"
            ]
          },
          "metadata": {
            "tags": []
          },
          "execution_count": 75
        }
      ]
    },
    {
      "cell_type": "markdown",
      "metadata": {
        "id": "LM2JUY-WLC0U"
      },
      "source": [
        "Evaluation metrics"
      ]
    },
    {
      "cell_type": "code",
      "metadata": {
        "colab": {
          "base_uri": "https://localhost:8080/"
        },
        "id": "7JopNmAsLEDo",
        "outputId": "2681ca8e-e812-4dc3-a0cf-4fbf952389d2"
      },
      "source": [
        "from sklearn.metrics import r2_score, mean_squared_error\r\n",
        "\r\n",
        "predicted_test = rf.predict(X_test)\r\n",
        "\r\n",
        "r2 = r2_score(y_test, predicted_test)\r\n",
        "mse = mean_squared_error(y_test, predicted_test)\r\n",
        "\r\n",
        "print('R2 score:', r2)\r\n",
        "print('MSE :', mse)\r\n"
      ],
      "execution_count": null,
      "outputs": [
        {
          "output_type": "stream",
          "text": [
            "R2 score: 0.8847356180108363\n",
            "MSE : 8.452773194901964\n"
          ],
          "name": "stdout"
        }
      ]
    },
    {
      "cell_type": "markdown",
      "metadata": {
        "id": "BtJ5yxw7O80D"
      },
      "source": [
        "Feature importance"
      ]
    },
    {
      "cell_type": "code",
      "metadata": {
        "colab": {
          "base_uri": "https://localhost:8080/",
          "height": 487
        },
        "id": "fg-Cwr7_O-WN",
        "outputId": "54117b4f-d248-4809-e160-f7787a3ab0e8"
      },
      "source": [
        "# get importance\r\n",
        "importance = rf.feature_importances_\r\n",
        "# summarize feature importance\r\n",
        "for i,v in enumerate(importance):\r\n",
        "\tprint('Feature: %0d, Score: %.5f' % (i,v))\r\n",
        "# plot feature importance\r\n",
        "plt.bar([x for x in range(len(importance))], importance)\r\n",
        "plt.show()"
      ],
      "execution_count": null,
      "outputs": [
        {
          "output_type": "stream",
          "text": [
            "Feature: 0, Score: 0.03617\n",
            "Feature: 1, Score: 0.00175\n",
            "Feature: 2, Score: 0.00673\n",
            "Feature: 3, Score: 0.00112\n",
            "Feature: 4, Score: 0.01864\n",
            "Feature: 5, Score: 0.48270\n",
            "Feature: 6, Score: 0.01474\n",
            "Feature: 7, Score: 0.05753\n",
            "Feature: 8, Score: 0.00449\n",
            "Feature: 9, Score: 0.01623\n",
            "Feature: 10, Score: 0.01655\n",
            "Feature: 11, Score: 0.01371\n",
            "Feature: 12, Score: 0.32964\n"
          ],
          "name": "stdout"
        },
        {
          "output_type": "display_data",
          "data": {
            "image/png": "[encoded data removed]",
            "text/plain": [
              "<Figure size 432x288 with 1 Axes>"
            ]
          },
          "metadata": {
            "tags": [],
            "needs_background": "light"
          }
        }
      ]
    }
  ]
}